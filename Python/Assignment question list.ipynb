{
 "cells": [
  {
   "cell_type": "code",
   "execution_count": 1,
   "id": "3bb61d83",
   "metadata": {},
   "outputs": [
    {
     "name": "stdout",
     "output_type": "stream",
     "text": [
      "Please Enter comma separated Numbers: 3,5,7,23\n",
      "List :  ['3', '5', '7', '23']\n",
      "Tuple:  ('3', '5', '7', '23')\n"
     ]
    }
   ],
   "source": [
    "lists = input('Please Enter comma separated Numbers: ').split(',')\n",
    "print('List : ', lists)\n",
    "print('Tuple: ', tuple(lists))"
   ]
  },
  {
   "cell_type": "code",
   "execution_count": 2,
   "id": "77f6f490",
   "metadata": {},
   "outputs": [
    {
     "name": "stdout",
     "output_type": "stream",
     "text": [
      "Red and Black\n"
     ]
    }
   ],
   "source": [
    "color_list = [\"Red\", \"Green\", \"White\", \"Black\"]\n",
    "print(color_list[0], \"and\", color_list[-1])"
   ]
  },
  {
   "cell_type": "code",
   "execution_count": 3,
   "id": "8cbc9458",
   "metadata": {},
   "outputs": [
    {
     "name": "stdout",
     "output_type": "stream",
     "text": [
      "[2, 4, 6, 8]\n"
     ]
    }
   ],
   "source": [
    "sample_list = [1,2,3,4,5,6,7,8,9]\n",
    "\n",
    "print([x for x in sample_list if x % 2 == 0])"
   ]
  },
  {
   "cell_type": "code",
   "execution_count": null,
   "id": "8fd214d1",
   "metadata": {},
   "outputs": [],
   "source": []
  }
 ],
 "metadata": {
  "kernelspec": {
   "display_name": "Python 3 (ipykernel)",
   "language": "python",
   "name": "python3"
  },
  "language_info": {
   "codemirror_mode": {
    "name": "ipython",
    "version": 3
   },
   "file_extension": ".py",
   "mimetype": "text/x-python",
   "name": "python",
   "nbconvert_exporter": "python",
   "pygments_lexer": "ipython3",
   "version": "3.10.9"
  }
 },
 "nbformat": 4,
 "nbformat_minor": 5
}
