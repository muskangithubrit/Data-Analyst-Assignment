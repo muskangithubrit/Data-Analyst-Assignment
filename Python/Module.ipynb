{
 "cells": [
  {
   "cell_type": "markdown",
   "id": "d2349bf3",
   "metadata": {},
   "source": [
    "# 1. Write a Python program to calculate number of days between two dates.\n",
    "Hint: use Datetime package/module.\n",
    "\n",
    "Sample dates : (2014, 7, 2), (2014, 7, 11)\n",
    "\n",
    "Expected output : 9 days"
   ]
  },
  {
   "cell_type": "code",
   "execution_count": 1,
   "id": "3dd21be9",
   "metadata": {},
   "outputs": [
    {
     "name": "stdout",
     "output_type": "stream",
     "text": [
      "Difference is 9 days\n"
     ]
    }
   ],
   "source": [
    "from datetime import datetime\n",
    "\n",
    "# difference between dates in timedelta\n",
    "delta = (datetime.strptime('2014/07/11', \"%Y/%m/%d\") - datetime.strptime('2014/07/02', \"%Y/%m/%d\"))\n",
    "print(f'Difference is {delta.days} days')"
   ]
  }
 ],
 "metadata": {
  "kernelspec": {
   "display_name": "Python 3 (ipykernel)",
   "language": "python",
   "name": "python3"
  },
  "language_info": {
   "codemirror_mode": {
    "name": "ipython",
    "version": 3
   },
   "file_extension": ".py",
   "mimetype": "text/x-python",
   "name": "python",
   "nbconvert_exporter": "python",
   "pygments_lexer": "ipython3",
   "version": "3.10.9"
  }
 },
 "nbformat": 4,
 "nbformat_minor": 5
}
