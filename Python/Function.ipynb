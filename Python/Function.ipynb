{
 "cells": [
  {
   "cell_type": "markdown",
   "id": "6ac8a11f",
   "metadata": {},
   "source": [
    "# 1. Write a Python program to get the volume of a sphere with radius 6."
   ]
  },
  {
   "cell_type": "code",
   "execution_count": 1,
   "id": "e4ae51ad",
   "metadata": {},
   "outputs": [
    {
     "data": {
      "text/plain": [
       "904.7786842338603"
      ]
     },
     "execution_count": 1,
     "metadata": {},
     "output_type": "execute_result"
    }
   ],
   "source": [
    "import math\n",
    "\n",
    "def volume_of_sphere_by_radius(radius):\n",
    "    v = 4/3*math.pi*radius**3\n",
    "    return v\n",
    "\n",
    "volume_of_sphere_by_radius(6)"
   ]
  },
  {
   "cell_type": "markdown",
   "id": "2fa653a2",
   "metadata": {},
   "source": [
    "# 2. Write a Python program to calculate the sum of three given numbers, if the values are equal then return three times of their sum"
   ]
  },
  {
   "cell_type": "code",
   "execution_count": 2,
   "id": "ca8218f0",
   "metadata": {},
   "outputs": [
    {
     "name": "stdout",
     "output_type": "stream",
     "text": [
      "Enter First Number  : 4\n",
      "Enter Second Number : 4\n",
      "Enter Third Number  : 4\n",
      "Sum is : 36\n"
     ]
    }
   ],
   "source": [
    "def sum_values(x, y, z):\n",
    "    if x == y == z:\n",
    "        return (x+y+z) * 3\n",
    "    return x+y+z\n",
    "\n",
    "\n",
    "a = int(input(\"Enter First Number  : \"))\n",
    "b = int(input(\"Enter Second Number : \"))\n",
    "c = int(input(\"Enter Third Number  : \"))\n",
    "print(\"Sum is : %d\" % sum_values(a, b, c))"
   ]
  },
  {
   "cell_type": "markdown",
   "id": "25fab7f0",
   "metadata": {},
   "source": [
    "# 3. Write a Python program to count the number 4 in a given list.\n",
    "List = [1,4,6,8,4,9,4]"
   ]
  },
  {
   "cell_type": "code",
   "execution_count": 3,
   "id": "cdc2901e",
   "metadata": {},
   "outputs": [
    {
     "name": "stdout",
     "output_type": "stream",
     "text": [
      "Count of 4 in List:  3\n"
     ]
    }
   ],
   "source": [
    "List = [1,4,6,8,4,9,4]\n",
    "\n",
    "def count_num(lists):\n",
    "    four = 0\n",
    "    for i in lists:\n",
    "        if i == 4:\n",
    "            four = four + i/4\n",
    "    print(\"Count of 4 in List: \",int(four))\n",
    "\n",
    "count_num(List)"
   ]
  },
  {
   "cell_type": "markdown",
   "id": "2659ee99",
   "metadata": {},
   "source": [
    "# 4. Write a Python program to print all even numbers from a given numbers list in the same order and stop the printing if any numbers that come after 237 in the sequence.\n",
    "\n",
    "[399, 162, 758, 219, 918, 237, 412, 566, 826, 248, 866, 950, 626, 949, 687, 217, 815,\n",
    "\n",
    "67, 104, 58, 512, 24, 892, 894, 767, 553, 81, 379, 843, 831, 445, 742, 717, 958,743, 527]"
   ]
  },
  {
   "cell_type": "code",
   "execution_count": 4,
   "id": "2b52ccf8",
   "metadata": {},
   "outputs": [
    {
     "name": "stdout",
     "output_type": "stream",
     "text": [
      "162\n",
      "758\n",
      "918\n"
     ]
    }
   ],
   "source": [
    "List = [399, 162, 758, 219, 918, 237, 412, 566, 826, 248, 866, 950, 626, 949, 687, 217, 815,\n",
    "        67, 104, 58, 512, 24, 892, 894, 767, 553, 81, 379, 843, 831, 445, 742, 717, 958, 743, 527]\n",
    "\n",
    "def Even_number(lists):\n",
    "    for a in lists:\n",
    "        if a % 2 == 0:\n",
    "            print(a)\n",
    "        elif a == 237:\n",
    "            break\n",
    "            \n",
    "Even_number(List)"
   ]
  },
  {
   "cell_type": "markdown",
   "id": "01d9dab0",
   "metadata": {},
   "source": [
    "# 5. Write a Python program to find those numbers which are divisible by 7 and multiple of 5, between 1500 and 2700 (both included)"
   ]
  },
  {
   "cell_type": "code",
   "execution_count": 5,
   "id": "84d45539",
   "metadata": {},
   "outputs": [
    {
     "name": "stdout",
     "output_type": "stream",
     "text": [
      "[1505, 1540, 1575, 1610, 1645, 1680, 1715, 1750, 1785, 1820, 1855, 1890, 1925, 1960, 1995, 2030, 2065, 2100, 2135, 2170, 2205, 2240, 2275, 2310, 2345, 2380, 2415, 2450, 2485, 2520, 2555, 2590, 2625, 2660, 2695]\n"
     ]
    }
   ],
   "source": [
    "print([i for i in range(1500, 2701) if i % 7 == 0 and i % 5 == 0])"
   ]
  },
  {
   "cell_type": "markdown",
   "id": "1ecd26b4",
   "metadata": {},
   "source": [
    "# 6. Write a Python program that prints all the numbers from 0 to 6 except 3 and         6"
   ]
  },
  {
   "cell_type": "code",
   "execution_count": 6,
   "id": "4718ecd0",
   "metadata": {},
   "outputs": [
    {
     "name": "stdout",
     "output_type": "stream",
     "text": [
      "0 1 2 4 5 "
     ]
    }
   ],
   "source": [
    "for i in range(7):\n",
    "    if i == 3 or i == 6:\n",
    "        continue\n",
    "    print(i, end = ' ')"
   ]
  },
  {
   "cell_type": "markdown",
   "id": "9ec2313f",
   "metadata": {},
   "source": [
    "# 7. Write a Python program to get the Fibonacci series between 0 to 50.\n",
    "\n",
    "Note : The Fibonacci Sequence is the series of numbers :\n",
    "\n",
    "0, 1, 1, 2, 3, 5, 8, 13, 21, ....\n",
    "\n",
    "Every next number is found by adding up the two numbers before it.\n",
    "\n",
    "Expected Output : 1 1 2 3 5 8 13 21 34"
   ]
  },
  {
   "cell_type": "code",
   "execution_count": 7,
   "id": "7fcefd60",
   "metadata": {},
   "outputs": [
    {
     "name": "stdout",
     "output_type": "stream",
     "text": [
      "Fibonacci Sequence:\n",
      "1 1 2 3 5 8 13 21 34 "
     ]
    }
   ],
   "source": [
    "nterms = [0,1,1,2,3,5,8,13,21]\n",
    "\n",
    "n1, n2 = 0, 1\n",
    "count = 0\n",
    "\n",
    "print(\"Fibonacci Sequence:\")\n",
    "while count < len(nterms):\n",
    "    print(n2, end = ' ')\n",
    "    nth = n1 + n2\n",
    "    n1 = n2\n",
    "    n2 = nth\n",
    "    count += 1"
   ]
  },
  {
   "cell_type": "markdown",
   "id": "7315593b",
   "metadata": {},
   "source": [
    "# 8. Write a Python program to get the Fibonacci series between 0 to 50.\n",
    "\n",
    "Note : The Fibonacci Sequence is the series of numbers :\n",
    "\n",
    "0, 1, 1, 2, 3, 5, 8, 13, 21, ....\n",
    "\n",
    "Every next number is found by adding up the two numbers before it.\n",
    "\n",
    "Expected Output : 1 1 2 3 5 8 13 21 34"
   ]
  },
  {
   "cell_type": "code",
   "execution_count": 8,
   "id": "f979bda4",
   "metadata": {},
   "outputs": [
    {
     "name": "stdout",
     "output_type": "stream",
     "text": [
      "How many terms? 9\n",
      "Fibonacci Sequence:\n",
      "1 1 2 3 5 8 13 21 34 "
     ]
    }
   ],
   "source": [
    "# Program to display the Fibonacci sequence up to n-th term\n",
    "\n",
    "nterms = int(input(\"How many terms? \"))\n",
    "\n",
    "# first two terms\n",
    "n1, n2 = 0, 1\n",
    "count = 0\n",
    "\n",
    "# check if the number of terms is valid\n",
    "if nterms <= 0:\n",
    "    print(\"Please enter a positive integer\")\n",
    "\n",
    "# if there is only one term, return n1\n",
    "elif nterms == 1:\n",
    "    print(\"Fibonacci Sequence upto\",nterms,\":\")\n",
    "    print(n1)\n",
    "\n",
    "# generate fibonacci sequence\n",
    "else:\n",
    "    print(\"Fibonacci Sequence:\")\n",
    "    while count < nterms:\n",
    "        print(n2, end = ' ')\n",
    "        nth = n1 + n2\n",
    "        # update values\n",
    "        n1 = n2\n",
    "        n2 = nth\n",
    "        count += 1"
   ]
  },
  {
   "cell_type": "markdown",
   "id": "64fcad1c",
   "metadata": {},
   "source": [
    "# 9. Write a Python function that takes a list and returns a new list with unique elements of the first list.\n",
    "\n",
    "Sample List : [1,2,3,3,3,3,4,5]\n",
    "\n",
    "Unique List : [1, 2, 3, 4, 5]"
   ]
  },
  {
   "cell_type": "code",
   "execution_count": 9,
   "id": "fb3e38d2",
   "metadata": {},
   "outputs": [
    {
     "data": {
      "text/plain": [
       "[1, 2, 3, 4, 5]"
      ]
     },
     "execution_count": 9,
     "metadata": {},
     "output_type": "execute_result"
    }
   ],
   "source": [
    "def unique_(lists):\n",
    "    a = []\n",
    "    for i in lists:\n",
    "        if i not in a:\n",
    "            a.append(i)\n",
    "    return a\n",
    "\n",
    "sample_list = [1,2,3,3,3,3,4,5]\n",
    "\n",
    "unique_(sample_list)"
   ]
  }
 ],
 "metadata": {
  "kernelspec": {
   "display_name": "Python 3 (ipykernel)",
   "language": "python",
   "name": "python3"
  },
  "language_info": {
   "codemirror_mode": {
    "name": "ipython",
    "version": 3
   },
   "file_extension": ".py",
   "mimetype": "text/x-python",
   "name": "python",
   "nbconvert_exporter": "python",
   "pygments_lexer": "ipython3",
   "version": "3.10.9"
  }
 },
 "nbformat": 4,
 "nbformat_minor": 5
}
