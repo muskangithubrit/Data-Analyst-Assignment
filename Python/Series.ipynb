{
 "cells": [
  {
   "cell_type": "markdown",
   "id": "3f23e859",
   "metadata": {},
   "source": [
    "#  Write a Python program to add, subtract, multiple and divide two Pandas Series.\n",
    "\n",
    "Sample Series: [2, 4, 6, 8, 10], [1, 3, 5, 7, 9]"
   ]
  },
  {
   "cell_type": "code",
   "execution_count": 1,
   "id": "d2db24d7",
   "metadata": {},
   "outputs": [],
   "source": [
    "def arithmetic_func(list_1, list_2, function):\n",
    "    list_3 = []\n",
    "    if len(list_1) != len(list_2):\n",
    "        print(\"Please provide list with equal length\")\n",
    "    elif function == 'add':\n",
    "        for i in range(len(list_1)):\n",
    "            list_3.append(list_1[i] + list_2[i])\n",
    "        return list_3\n",
    "    elif function == 'subtract':\n",
    "        for i in range(len(list_1)):\n",
    "            list_3.append(list_1[i] - list_2[i])\n",
    "        return list_3\n",
    "    elif function == 'multiply':\n",
    "        for i in range(len(list_1)):\n",
    "            list_3.append(list_1[i] * list_2[i])\n",
    "        return list_3\n",
    "    elif function == 'divide':\n",
    "        for i in range(len(list_1)):\n",
    "            list_3.append(round(list_1[i] / list_2[i],2))\n",
    "        return list_3\n",
    "    else:\n",
    "        print('Please provide a valid arithmetic operator like \"add\", \"subtract\", \"multiply\" and \"divide')"
   ]
  },
  {
   "cell_type": "code",
   "execution_count": 2,
   "id": "e214d245",
   "metadata": {},
   "outputs": [
    {
     "data": {
      "text/plain": [
       "[3, 7, 11, 15, 19]"
      ]
     },
     "execution_count": 2,
     "metadata": {},
     "output_type": "execute_result"
    }
   ],
   "source": [
    "list1 = [2,4,6,8,10]\n",
    "list2 = [1,3,5,7,9]\n",
    "arithmetic_func(list1, list2, 'add')"
   ]
  },
  {
   "cell_type": "code",
   "execution_count": 4,
   "id": "cb12e62f",
   "metadata": {},
   "outputs": [
    {
     "data": {
      "text/plain": [
       "[1, 1, 1, 1, 1]"
      ]
     },
     "execution_count": 4,
     "metadata": {},
     "output_type": "execute_result"
    }
   ],
   "source": [
    "arithmetic_func(list1, list2, 'subtract')"
   ]
  },
  {
   "cell_type": "code",
   "execution_count": 5,
   "id": "be938cfc",
   "metadata": {},
   "outputs": [
    {
     "data": {
      "text/plain": [
       "[2, 12, 30, 56, 90]"
      ]
     },
     "execution_count": 5,
     "metadata": {},
     "output_type": "execute_result"
    }
   ],
   "source": [
    "arithmetic_func(list1, list2, 'multiply')"
   ]
  },
  {
   "cell_type": "code",
   "execution_count": 6,
   "id": "99d60a8f",
   "metadata": {},
   "outputs": [
    {
     "data": {
      "text/plain": [
       "[2.0, 1.33, 1.2, 1.14, 1.11]"
      ]
     },
     "execution_count": 6,
     "metadata": {},
     "output_type": "execute_result"
    }
   ],
   "source": [
    "arithmetic_func(list1, list2, 'divide')"
   ]
  },
  {
   "cell_type": "code",
   "execution_count": 7,
   "id": "6dec1aa7",
   "metadata": {},
   "outputs": [
    {
     "name": "stdout",
     "output_type": "stream",
     "text": [
      "Please provide a valid arithmetic operator like \"add\", \"subtract\", \"multiply\" and \"divide\n"
     ]
    }
   ],
   "source": [
    "arithmetic_func(list1, list2, 'xyz')"
   ]
  }
 ],
 "metadata": {
  "kernelspec": {
   "display_name": "Python 3 (ipykernel)",
   "language": "python",
   "name": "python3"
  },
  "language_info": {
   "codemirror_mode": {
    "name": "ipython",
    "version": 3
   },
   "file_extension": ".py",
   "mimetype": "text/x-python",
   "name": "python",
   "nbconvert_exporter": "python",
   "pygments_lexer": "ipython3",
   "version": "3.10.9"
  }
 },
 "nbformat": 4,
 "nbformat_minor": 5
}
