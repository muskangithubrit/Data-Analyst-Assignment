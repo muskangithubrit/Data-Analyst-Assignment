{
 "cells": [
  {
   "cell_type": "markdown",
   "id": "1b1a3c8f",
   "metadata": {},
   "source": [
    "# 1. Write a Python program to concatenate all elements in a list into a string and return it"
   ]
  },
  {
   "cell_type": "code",
   "execution_count": 1,
   "id": "0b78254f",
   "metadata": {},
   "outputs": [
    {
     "name": "stdout",
     "output_type": "stream",
     "text": [
      "Original List :  ['Shanu', 'Manju', 'Halli']\n",
      "After concetenating all elements of a list into a string :  Shanu Manju Halli\n"
     ]
    }
   ],
   "source": [
    "List = ['Shanu','Manju','Halli']\n",
    "print(\"Original List : \", List)\n",
    "print(\"After concetenating all elements of a list into a string : \", ' '.join([str(i) for i in List]))"
   ]
  },
  {
   "cell_type": "code",
   "execution_count": null,
   "id": "753ebcf2",
   "metadata": {},
   "outputs": [],
   "source": []
  }
 ],
 "metadata": {
  "kernelspec": {
   "display_name": "Python 3 (ipykernel)",
   "language": "python",
   "name": "python3"
  },
  "language_info": {
   "codemirror_mode": {
    "name": "ipython",
    "version": 3
   },
   "file_extension": ".py",
   "mimetype": "text/x-python",
   "name": "python",
   "nbconvert_exporter": "python",
   "pygments_lexer": "ipython3",
   "version": "3.10.9"
  }
 },
 "nbformat": 4,
 "nbformat_minor": 5
}
